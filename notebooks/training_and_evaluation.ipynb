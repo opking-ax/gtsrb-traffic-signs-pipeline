{
 "cells": [
  {
   "cell_type": "code",
   "execution_count": null,
   "id": "e223bfbf",
   "metadata": {},
   "outputs": [],
   "source": [
    "import os\n",
    "import numpy as np\n",
    "import pandas as pd\n",
    "import matplotlib.pyplot as plt\n",
    "import cv2\n",
    "import seaborn as sns\n",
    "\n",
    "import sys\n",
    "sys.path.append(\"..\")\n",
    "\n",
    "from src.data.preprocess import load_and_preprocess_image, augment_image, prepare_datasets\n",
    "from src.models.train import load_config, build_cnn_model, build_transfer_model, train_and_evaluate, log_experiment_mflow\n",
    "from src.models.evaluate import evaluate_model, plot_confusion_matrix, save_classification_report\n",
    "\n",
    "from pathlib import Path"
   ]
  },
  {
   "cell_type": "code",
   "execution_count": null,
   "id": "f1105a6e",
   "metadata": {},
   "outputs": [],
   "source": [
    "notebook_dir = Path().resolve()\n",
    "\n",
    "data_dir = notebook_dir.parent / 'data'\n",
    "\n",
    "train_dir = data_dir / 'Train'\n",
    "test_dir = data_dir / 'Test'\n",
    "\n",
    "config_path = notebook_dir.parent / 'config.yaml'\n",
    "config = load_config(config_path)\n",
    "# walk through folders\n",
    "# store imgae path + labels"
   ]
  },
  {
   "cell_type": "code",
   "execution_count": null,
   "id": "9095995a",
   "metadata": {},
   "outputs": [],
   "source": [
    "# Count number of images per class\n",
    "# Plt bar chart\n",
    "# Show a grid of sample images for each class"
   ]
  },
  {
   "cell_type": "code",
   "execution_count": null,
   "id": "ef76964e",
   "metadata": {},
   "outputs": [],
   "source": [
    "# images_data = load_and_preprocess_image(data_dir)\n",
    "sample_img = next(train_dir.rglob(\"*.png\"))\n",
    "processed_img = load_and_preprocess_image(sample_img)"
   ]
  },
  {
   "cell_type": "code",
   "execution_count": null,
   "id": "1194c083",
   "metadata": {},
   "outputs": [],
   "source": [
    "# use ImageDatagenerator for augmentation (rotation, zoom, flips)\n",
    "# Create train/validation/test iterators\n",
    "# rotation_range=15, brightness_range=[0.8, 1.2], horizontal_flip=False\n",
    "\n",
    "augment_image_data = augment_image(processed_img)\n",
    "\n",
    "train_data, val_data, test_data, class_names = prepare_datasets(train_dir, test_dir)"
   ]
  },
  {
   "cell_type": "code",
   "execution_count": null,
   "id": "b7425398",
   "metadata": {},
   "outputs": [],
   "source": [
    "# Sequential model\n",
    "# Conv2D → MaxPooling → Conv2D → MaxPooling → Flatten → Dense → Dropout → Output (Softmax with 4 classes)\n",
    "model = build_cnn_model()"
   ]
  },
  {
   "cell_type": "code",
   "execution_count": null,
   "id": "5bf6eef9",
   "metadata": {},
   "outputs": [],
   "source": [
    "resnet_model = build_transfer_model()"
   ]
  },
  {
   "cell_type": "code",
   "execution_count": null,
   "id": "2e80deef",
   "metadata": {},
   "outputs": [],
   "source": [
    "# Compile with Adam optimizer\n",
    "# Loss: categorical_crossentropy\n",
    "# Metrics: accuracy\n",
    "# Train model for N epochs with validation set\n",
    "# Store training history\n",
    "history, eval_metrics = train_and_evaluate(model, train_data, val_data, test_data, config)"
   ]
  },
  {
   "cell_type": "code",
   "execution_count": null,
   "id": "542b6e21",
   "metadata": {},
   "outputs": [],
   "source": [
    "# Accuracy & loss over epochs\n",
    "# Use matplotlib to plot\n",
    "# Find out how to get accuracy_values and loss_values\n",
    "epochs = config['epochs']\n",
    "\n",
    "plt.plot(epochs, accuracy_values, label='Accuracy')\n",
    "plt.plot(epochs, loss_values, label='Loss')\n",
    "plt.xlabel('Epochs')\n",
    "plt.ylabel('Value')\n",
    "plt.title('Accuracy and Loss Graph')\n",
    "plt.legend()\n",
    "plt.show()"
   ]
  },
  {
   "cell_type": "code",
   "execution_count": null,
   "id": "97fe9d18",
   "metadata": {},
   "outputs": [],
   "source": [
    "# Predict on test set\n",
    "# Print classification_report\n",
    "# Plot confusion matrix\n",
    "cm, report = evaluate_model(history, test_data, class_names)"
   ]
  },
  {
   "cell_type": "code",
   "execution_count": null,
   "id": "5a3b4841",
   "metadata": {},
   "outputs": [],
   "source": [
    "# Save model to models/cnn_grapevine.h5\n",
    "# Save plots (accuracy/loss, confusion matrix) into reports/\n",
    "plot_confusion_matrix(cm, class_names)\n",
    "save_classification_report(report)"
   ]
  },
  {
   "cell_type": "code",
   "execution_count": null,
   "id": "e6289ce4",
   "metadata": {},
   "outputs": [],
   "source": [
    "# Start MLflow run\n",
    "# Log parameters: batch_size, epochs, learning_rate\n",
    "# Log final accuracy & loss\n",
    "# Log saved model\n",
    "metrics = [\"accuracy\", \"loss\"]\n",
    "log_experiment_mflow(model, history, [\"accuracy\", \"loss\"], config)"
   ]
  }
 ],
 "metadata": {
  "kernelspec": {
   "display_name": "base",
   "language": "python",
   "name": "python3"
  },
  "language_info": {
   "codemirror_mode": {
    "name": "ipython",
    "version": 3
   },
   "file_extension": ".py",
   "mimetype": "text/x-python",
   "name": "python",
   "nbconvert_exporter": "python",
   "pygments_lexer": "ipython3",
   "version": "3.13.5"
  }
 },
 "nbformat": 4,
 "nbformat_minor": 5
}
